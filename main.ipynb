{
 "cells": [
  {
   "cell_type": "code",
   "execution_count": 56,
   "metadata": {},
   "outputs": [],
   "source": [
    "import numpy as np\n",
    "import matplotlib.pyplot as plt\n",
    "import math\n",
    "from matplotlib import animation"
   ]
  },
  {
   "attachments": {},
   "cell_type": "markdown",
   "metadata": {},
   "source": [
    "__ATTENTION:__ Sometimes there are some errors with cells or class etributes. In this case just\n",
    "try to restart the python kernel."
   ]
  },
  {
   "cell_type": "code",
   "execution_count": 57,
   "metadata": {},
   "outputs": [],
   "source": [
    "from src import ShrodingerEquation, PotentialBarriers"
   ]
  },
  {
   "attachments": {},
   "cell_type": "markdown",
   "metadata": {},
   "source": [
    "Запишем общий вид уравнения Шрёдингера\n",
    "\n",
    "$$H \\langle \\psi \\rangle = E \\psi$$\n",
    "\n",
    "где $\\psi$ -- волновая функция, $H$ -- оператор полной энергии (гамильтониан), $E$ -- полная энергия \n",
    "системы. Вид гамильтониана\n",
    "\n",
    "$$H = - \\frac{\\hbar}{2m} \\Delta + U(r)$$\n",
    "\n",
    "где $\\Delta$ -- оператор Лапласа.\n",
    "\n",
    "Это запись для уравнения Шрёдингера, независимого от времени (стационарного состояния). При записи, \n",
    "фактически в правой части мы перешли от оператора, дающего зависимость по времени к величине полной \n",
    "энергии. Для того, чтобы записать уравнение, зависящее от времени перейдем к операторам в обеих частях.\n",
    "\n",
    "$$H \\langle \\psi \\rangle = E  \\langle \\psi \\rangle$$\n",
    "\n",
    "где $E$ теперь является оператором\n",
    "\n",
    "$$E = i \\hbar \\frac{\\partial}{\\partial t}$$\n",
    "\n",
    "Теперь уравнение имеет следующий вид\n",
    "\n",
    "$$i \\hbar \\frac{\\partial \\psi(r, t)}{\\partial t} = H \\langle \\psi(r, t) \\rangle$$"
   ]
  },
  {
   "attachments": {},
   "cell_type": "markdown",
   "metadata": {},
   "source": [
    "В этом случае решение дифференциального уравнения можно выразить следующим образом\n",
    "\n",
    "$$\\psi(r, t) = \\exp(-i H t) \\psi(r, 0)$$"
   ]
  },
  {
   "attachments": {},
   "cell_type": "markdown",
   "metadata": {},
   "source": [
    "Будем рассматривать распространение волнового пакета вдоль оси $Ox$. Тогда гамильтониан запишем следующим \n",
    "образом\n",
    "\n",
    "$$H = - \\frac{\\hbar}{2m} \\frac{\\partial^2}{\\partial x^2} + U(x)$$\n",
    "\n",
    "Для вычисления второй производной воспользуемся формулой вычислительной метематики\n",
    "\n",
    "$$\\frac{\\partial^2 f}{\\partial x^2} _{x = j \\Delta x} = \\frac{f_{j+1} - 2f_{j} + f_{j-1}}{dx^2}$$\n",
    "\n",
    "Тогда, если $f$ представляет собой вектор дискретных значений\n",
    "\n",
    "$$\n",
    "\\begin{pmatrix}\n",
    "f_1 \\\\\n",
    "f_2 \\\\\n",
    "\\dots \\\\\n",
    "f_N\n",
    "\\end{pmatrix}\n",
    "$$\n",
    "\n",
    "То вектор значений вторых происзводных этой функции в узлах построенной сетки можно получить с помощью\n",
    "трехдиагональной матрицы\n",
    "\n",
    "$$\n",
    "\\begin{pmatrix}\n",
    "f_1'' \\\\\n",
    "f_2'' \\\\\n",
    "\\dots \\\\\n",
    "f_N''\n",
    "\\end{pmatrix}\n",
    "= \\frac{1}{dx^2}\n",
    "\\begin{pmatrix}\n",
    "-2 &  1 & 0 & 0     & \\dots & 0 & 0 \\\\\n",
    "1  & -2 & 1 & 0     & \\dots & 0 & 0 \\\\\n",
    "0  & 1  &-2 & 1     & \\dots & 0 & 0 \\\\\n",
    "   &    &   & \\dots &       &   &   \\\\\n",
    "0  & 0  & 0 & 0     & \\dots &-2 & 1 \\\\\n",
    "\\end{pmatrix}\n",
    "\\begin{pmatrix}\n",
    "f_1 \\\\\n",
    "f_2 \\\\\n",
    "\\dots \\\\\n",
    "f_N\n",
    "\\end{pmatrix}\n",
    "$$"
   ]
  },
  {
   "attachments": {},
   "cell_type": "markdown",
   "metadata": {},
   "source": [
    "Значение потенциальной энергии $U$ так же можно представить в виде вектора значений в узлах сетки. Тогда\n",
    "действие оператора $H$ на вектор значений волновой функции $\\psi$ можно представить, как умножение вектора \n",
    "значений волновой функции на матрицу\n",
    "\n",
    "$$\n",
    "H =\n",
    "- \\frac{\\hbar}{2 m dx^2}\n",
    "\\begin{pmatrix}\n",
    "-2 &  1 & 0 & 0     & \\dots & 0 & 0 \\\\\n",
    "1  & -2 & 1 & 0     & \\dots & 0 & 0 \\\\\n",
    "0  & 1  &-2 & 1     & \\dots & 0 & 0 \\\\\n",
    "   &    &   & \\dots &       &   &   \\\\\n",
    "0  & 0  & 0 &       & \\dots &-2 & 1 \\\\\\end{pmatrix}\n",
    "\\begin{pmatrix}\n",
    "V_1 &  0  & 0   & 0     & \\dots & 0 & 0 \\\\\n",
    "0   & V_2 & 0   & 0     & \\dots & 0 & 0 \\\\\n",
    "0   & 0   & V_3 & 0     & \\dots & 0 & 0 \\\\\n",
    "    &     &     & \\dots &       &   &   \\\\\n",
    "0   & 0   & 0   & 0     & \\dots & 0 & V_N \\\\\\end{pmatrix}\n",
    "$$"
   ]
  },
  {
   "cell_type": "code",
   "execution_count": 58,
   "metadata": {},
   "outputs": [],
   "source": [
    "from scipy import integrate"
   ]
  },
  {
   "cell_type": "code",
   "execution_count": 59,
   "metadata": {},
   "outputs": [],
   "source": [
    "# зададим количество точек на пространственной сетке\n",
    "N = 1000\n",
    "# зададим сетку пространственного диапазона\n",
    "x_start = -120\n",
    "x_end = 120\n",
    "\n",
    "x_dense, dx = np.linspace(x_start, x_end, N, retstep=True)\n",
    "\n",
    "# зададим параметры волнового пакета\n",
    "# начальное положение\n",
    "x0 = 0\n",
    "# ширина\n",
    "sigma0 = 5.0\n",
    "# начальная энергия и импульс (считаем что m = 1)\n",
    "E0 = 0.5\n",
    "p0 = math.sqrt(2*E0)\n",
    "\n",
    "# зададим начальный вид волновой функции, как гаусовский полновой пакет\n",
    "psi0 = ShrodingerEquation.GaussWavePackage(x_dense, x0, sigma0, p0)\n",
    "\n",
    "# зададим потенциальный барьер\n",
    "V_dense = np.zeros(N)\n",
    "\n",
    "# волновая функция (заданная как объект)\n",
    "psi = ShrodingerEquation.WaveFunction(psi0, x_dense, V_dense)"
   ]
  },
  {
   "cell_type": "code",
   "execution_count": 60,
   "metadata": {},
   "outputs": [
    {
     "data": {
      "text/plain": [
       "[<matplotlib.lines.Line2D at 0x7f0b2848d7f0>]"
      ]
     },
     "execution_count": 60,
     "metadata": {},
     "output_type": "execute_result"
    },
    {
     "data": {
      "image/png": "[encoded data removed]",
      "text/plain": [
       "<Figure size 432x288 with 1 Axes>"
      ]
     },
     "metadata": {
      "needs_background": "light"
     },
     "output_type": "display_data"
    }
   ],
   "source": [
    "plt.plot(x_dense, psi.psi.real)"
   ]
  },
  {
   "cell_type": "code",
   "execution_count": 61,
   "metadata": {},
   "outputs": [
    {
     "name": "stdout",
     "output_type": "stream",
     "text": [
      "(6.657107717825699e-64-4.7473366922048666e-64j)\n",
      "(6.657107717825699e-64+4.7473366922048666e-64j)\n"
     ]
    }
   ],
   "source": [
    "# комплексное сопряжение\n",
    "print(psi.psi[0])\n",
    "print(psi.psi.conjugate()[0])"
   ]
  },
  {
   "attachments": {},
   "cell_type": "markdown",
   "metadata": {},
   "source": [
    "$$\\langle f \\rangle = \\int \\psi^* f \\psi $$\n",
    "\n",
    "в данном случае в правой части $f$ -- есть оператор. Таким образом\n",
    "\n",
    "$$\\langle x \\rangle = \\int \\psi^* x \\psi $$"
   ]
  },
  {
   "cell_type": "code",
   "execution_count": 62,
   "metadata": {},
   "outputs": [
    {
     "name": "stdout",
     "output_type": "stream",
     "text": [
      "145.69528675176485\n"
     ]
    }
   ],
   "source": [
    "x = np.linspace(1, 5, 100)\n",
    "y = np.exp(x)\n",
    "\n",
    "I= integrate.simps(y, x)\n",
    "print(I)"
   ]
  },
  {
   "cell_type": "code",
   "execution_count": 63,
   "metadata": {},
   "outputs": [
    {
     "name": "stdout",
     "output_type": "stream",
     "text": [
      "0.0\n"
     ]
    }
   ],
   "source": [
    "y = psi.psi.conjugate() * x_dense * psi.psi\n",
    "y = y.real\n",
    "\n",
    "X = integrate.simps(y, x_dense)\n",
    "print(X)"
   ]
  },
  {
   "cell_type": "code",
   "execution_count": 64,
   "metadata": {},
   "outputs": [
    {
     "data": {
      "text/plain": [
       "[<matplotlib.lines.Line2D at 0x7f0b28409250>]"
      ]
     },
     "execution_count": 64,
     "metadata": {},
     "output_type": "execute_result"
    },
    {
     "data": {
      "image/png": "[encoded data removed]",
      "text/plain": [
       "<Figure size 432x288 with 1 Axes>"
      ]
     },
     "metadata": {
      "needs_background": "light"
     },
     "output_type": "display_data"
    }
   ],
   "source": [
    "'''\n",
    "Указание к использованию np.diff\n",
    "Забавная это все таки функция (я бы лучше написал)\n",
    "Во-первых, она режет исходный массив. Если вы даете ей на вход массив длины N, то на\n",
    "выход она возвращает массив N-1\n",
    "Во-вторых, она не делит на шаг сетки, а по-сути просто возвращает разницу между соседними значениями\n",
    "(подробнее смотри документацию)\n",
    "'''\n",
    "\n",
    "x, d_x = np.linspace(0, 10, 100, retstep=True)\n",
    "y = np.cos(x)\n",
    "plt.plot(x, y)\n",
    "y1 = np.diff(y, 1) / d_x\n",
    "plt.plot(x[:-1], y1)\n",
    "plt.plot(x, -np.sin(x))"
   ]
  },
  {
   "cell_type": "code",
   "execution_count": 66,
   "metadata": {},
   "outputs": [
    {
     "name": "stdout",
     "output_type": "stream",
     "text": [
      "1.0023565620323294\n"
     ]
    }
   ],
   "source": [
    "operator_p2psi = -1j * (np.diff(psi.psi, 1) / dx)\n",
    "y = psi.psi.conjugate()[:-1] * operator_p2psi\n",
    "y = np.sqrt(y.real**2 + y.imag**2)\n",
    "X = integrate.simps(y, x_dense[:-1])\n",
    "print(X)"
   ]
  },
  {
   "cell_type": "code",
   "execution_count": 68,
   "metadata": {},
   "outputs": [
    {
     "name": "stdout",
     "output_type": "stream",
     "text": [
      "1.0023878327113096\n",
      "1.0023981212405217\n",
      "1.0024048239839194\n",
      "1.0024079444583336\n",
      "1.0024075015231328\n",
      "1.0024035290105915\n",
      "1.0023960752050778\n"
     ]
    }
   ],
   "source": [
    "psi.PsiTimeEvolute()\n",
    "operator_p2psi = -1j * (np.diff(psi.psi, 1) / dx)\n",
    "y = psi.psi.conjugate()[:-1] * operator_p2psi\n",
    "y = np.sqrt(y.real**2 + y.imag**2)\n",
    "X = integrate.simps(y, x_dense[:-1])\n",
    "print(X)\n",
    "psi.PsiTimeEvolute()\n",
    "operator_p2psi = -1j * (np.diff(psi.psi, 1) / dx)\n",
    "y = psi.psi.conjugate()[:-1] * operator_p2psi\n",
    "y = np.sqrt(y.real**2 + y.imag**2)\n",
    "X = integrate.simps(y, x_dense[:-1])\n",
    "print(X)\n",
    "psi.PsiTimeEvolute()\n",
    "operator_p2psi = -1j * (np.diff(psi.psi, 1) / dx)\n",
    "y = psi.psi.conjugate()[:-1] * operator_p2psi\n",
    "y = np.sqrt(y.real**2 + y.imag**2)\n",
    "X = integrate.simps(y, x_dense[:-1])\n",
    "print(X)\n",
    "psi.PsiTimeEvolute()\n",
    "operator_p2psi = -1j * (np.diff(psi.psi, 1) / dx)\n",
    "y = psi.psi.conjugate()[:-1] * operator_p2psi\n",
    "y = np.sqrt(y.real**2 + y.imag**2)\n",
    "X = integrate.simps(y, x_dense[:-1])\n",
    "print(X)\n",
    "psi.PsiTimeEvolute()\n",
    "operator_p2psi = -1j * (np.diff(psi.psi, 1) / dx)\n",
    "y = psi.psi.conjugate()[:-1] * operator_p2psi\n",
    "y = np.sqrt(y.real**2 + y.imag**2)\n",
    "X = integrate.simps(y, x_dense[:-1])\n",
    "print(X)\n",
    "psi.PsiTimeEvolute()\n",
    "operator_p2psi = -1j * (np.diff(psi.psi, 1) / dx)\n",
    "y = psi.psi.conjugate()[:-1] * operator_p2psi\n",
    "y = np.sqrt(y.real**2 + y.imag**2)\n",
    "X = integrate.simps(y, x_dense[:-1])\n",
    "print(X)\n",
    "psi.PsiTimeEvolute()\n",
    "operator_p2psi = -1j * (np.diff(psi.psi, 1) / dx)\n",
    "y = psi.psi.conjugate()[:-1] * operator_p2psi\n",
    "y = np.sqrt(y.real**2 + y.imag**2)\n",
    "X = integrate.simps(y, x_dense[:-1])\n",
    "print(X)"
   ]
  }
 ],
 "metadata": {
  "kernelspec": {
   "display_name": "Python 3",
   "language": "python",
   "name": "python3"
  },
  "language_info": {
   "codemirror_mode": {
    "name": "ipython",
    "version": 3
   },
   "file_extension": ".py",
   "mimetype": "text/x-python",
   "name": "python",
   "nbconvert_exporter": "python",
   "pygments_lexer": "ipython3",
   "version": "3.8.10"
  },
  "orig_nbformat": 4,
  "vscode": {
   "interpreter": {
    "hash": "916dbcbb3f70747c44a77c7bcd40155683ae19c65e1c03b4aa3499c5328201f1"
   }
  }
 },
 "nbformat": 4,
 "nbformat_minor": 2
}

{
 "cells": [
  {
   "cell_type": "code",
   "execution_count": 23,
   "metadata": {},
   "outputs": [],
   "source": [
    "import numpy as np\n",
    "import matplotlib.pyplot as plt\n",
    "import math\n",
    "from scipy.sparse import diags, spdiags\n",
    "from scipy.linalg import expm\n",
    "from matplotlib import animation"
   ]
  },
  {
   "attachments": {},
   "cell_type": "markdown",
   "metadata": {},
   "source": [
    "Запишем общий вид уравнения Шрёдингера\n",
    "\n",
    "$$H \\langle \\psi \\rangle = E \\psi$$\n",
    "\n",
    "где $\\psi$ -- волновая функция, $H$ -- оператор полной энергии (гамильтониан), $E$ -- полная энергия \n",
    "системы. Вид гамильтониана\n",
    "\n",
    "$$H = - \\frac{\\hbar}{2m} \\Delta + U(r)$$\n",
    "\n",
    "где $\\Delta$ -- оператор Лапласа.\n",
    "\n",
    "Это запись для уравнения Шрёдингера, независимого от времени (стационарного состояния). При записи, \n",
    "фактически в правой части мы перешли от оператора, дающего зависимость по времени к величине полной \n",
    "энергии. Для того, чтобы записать уравнение, зависящее от времени перейдем к операторам в обеих частях.\n",
    "\n",
    "$$H \\langle \\psi \\rangle = E  \\langle \\psi \\rangle$$\n",
    "\n",
    "где $E$ теперь является оператором\n",
    "\n",
    "$$E = i \\hbar \\frac{\\partial}{\\partial t}$$\n",
    "\n",
    "Теперь уравнение имеет следующий вид\n",
    "\n",
    "$$i \\hbar \\frac{\\partial \\psi(r, t)}{\\partial t} = H \\langle \\psi(r, t) \\rangle$$"
   ]
  },
  {
   "attachments": {},
   "cell_type": "markdown",
   "metadata": {},
   "source": [
    "В этом случае решение дифференциального уравнения можно выразить следующим образом\n",
    "\n",
    "$$\\psi(r, t) = \\exp(-i H t) \\psi(r, 0)$$"
   ]
  },
  {
   "attachments": {},
   "cell_type": "markdown",
   "metadata": {},
   "source": [
    "Будем рассматривать распространение волнового пакета вдоль оси $Ox$. Тогда гамильтониан запишем следующим \n",
    "образом\n",
    "\n",
    "$$H = - \\frac{\\hbar}{2m} \\frac{\\partial^2}{\\partial x^2} + U(x)$$\n",
    "\n",
    "Для вычисления второй производной воспользуемся формулой вычислительной метематики\n",
    "\n",
    "$$\\frac{\\partial^2 f}{\\partial x^2} _{x = j \\Delta x} = \\frac{f_{j+1} - 2f_{j} + f_{j-1}}{dx^2}$$\n",
    "\n",
    "Тогда, если $f$ представляет собой вектор дискретных значений\n",
    "\n",
    "$$\n",
    "\\begin{pmatrix}\n",
    "f_1 \\\\\n",
    "f_2 \\\\\n",
    "\\dots \\\\\n",
    "f_N\n",
    "\\end{pmatrix}\n",
    "$$\n",
    "\n",
    "То вектор значений вторых происзводных этой функции в узлах построенной сетки можно получить с помощью\n",
    "трехдиагональной матрицы\n",
    "\n",
    "$$\n",
    "\\begin{pmatrix}\n",
    "f_1'' \\\\\n",
    "f_2'' \\\\\n",
    "\\dots \\\\\n",
    "f_N''\n",
    "\\end{pmatrix}\n",
    "= \\frac{1}{dx^2}\n",
    "\\begin{pmatrix}\n",
    "-2 &  1 & 0 & 0     & \\dots & 0 & 0 \\\\\n",
    "1  & -2 & 1 & 0     & \\dots & 0 & 0 \\\\\n",
    "0  & 1  &-2 & 1     & \\dots & 0 & 0 \\\\\n",
    "   &    &   & \\dots &       &   &   \\\\\n",
    "0  & 0  & 0 & 0     & \\dots &-2 & 1 \\\\\n",
    "\\end{pmatrix}\n",
    "\\begin{pmatrix}\n",
    "f_1 \\\\\n",
    "f_2 \\\\\n",
    "\\dots \\\\\n",
    "f_N\n",
    "\\end{pmatrix}\n",
    "$$"
   ]
  },
  {
   "attachments": {},
   "cell_type": "markdown",
   "metadata": {},
   "source": [
    "Значение потенциальной энергии $U$ так же можно представить в виде вектора значений в узлах сетки. Тогда\n",
    "действие оператора $H$ на вектор значений волновой функции $\\psi$ можно представить, как умножение вектора \n",
    "значений волновой функции на матрицу\n",
    "\n",
    "$$\n",
    "H =\n",
    "- \\frac{\\hbar}{2 m dx^2}\n",
    "\\begin{pmatrix}\n",
    "-2 &  1 & 0 & 0     & \\dots & 0 & 0 \\\\\n",
    "1  & -2 & 1 & 0     & \\dots & 0 & 0 \\\\\n",
    "0  & 1  &-2 & 1     & \\dots & 0 & 0 \\\\\n",
    "   &    &   & \\dots &       &   &   \\\\\n",
    "0  & 0  & 0 &       & \\dots &-2 & 1 \\\\\\end{pmatrix}\n",
    "\\begin{pmatrix}\n",
    "V_1 &  0  & 0   & 0     & \\dots & 0 & 0 \\\\\n",
    "0   & V_2 & 0   & 0     & \\dots & 0 & 0 \\\\\n",
    "0   & 0   & V_3 & 0     & \\dots & 0 & 0 \\\\\n",
    "    &     &     & \\dots &       &   &   \\\\\n",
    "0   & 0   & 0   & 0     & \\dots & 0 & V_N \\\\\\end{pmatrix}\n",
    "$$"
   ]
  },
  {
   "cell_type": "code",
   "execution_count": 24,
   "metadata": {},
   "outputs": [],
   "source": [
    "# return a matrix (like a mtrix operator)\n",
    "# здесь предполагаем нормировку постоянной планка на 1\n",
    "# массу частицы m = 1 \n",
    "def Hamiltonian(N, V_dense, dx):\n",
    "    L = diags([1, -2, 1], offsets=[-1, 0, 1], shape=(N, N))\n",
    "    V = spdiags(V_dense, 0, N, N)\n",
    "\n",
    "    H = - (1 / (2* dx**2)) * L + V\n",
    "    return H.toarray()\n",
    "\n",
    "def TimeEvolution(H, dt=1):\n",
    "    U = expm(-1j*H*dt)\n",
    "    # задаем точность -- отрубаем слишком малые элементы матрицы\n",
    "    U[(U.real**2 + U.imag**2) < 1e-10] = 0\n",
    "    return U\n",
    "\n",
    "def GaussWavePackage(x, x0, sigma0, p0):\n",
    "    A = (2*np.pi*sigma0**2)**(-0.25)\n",
    "    return A*np.exp(1j*p0*x - ((x-x0)/(2*sigma0))**2)\n",
    "\n",
    "def WaveFunctioProbability(psi):\n",
    "    return psi.real**2 + psi.imag**2"
   ]
  },
  {
   "cell_type": "code",
   "execution_count": null,
   "metadata": {},
   "outputs": [],
   "source": [
    "'''examples of potential pit'''\n",
    "# the method is a x function\n",
    "# use \n",
    "# V_dense = np.array([V(x) for x in x_dense])\n",
    "\n",
    "# box pit\n",
    "# x -- x range, x0 -- center of pit, d -- width of pit, V0 -- depth\n",
    "def BoxPotential(x, x0, d, V0):\n",
    "    if (x <= x0 - d/2 or x >= x0 + d/2):\n",
    "        return 0\n",
    "    else:\n",
    "        return V0\n",
    "\n",
    "# Oscillator\n",
    "def ParabolaPotential(x, omega):\n",
    "    return 0.5 * omega**2 * x**2"
   ]
  },
  {
   "cell_type": "code",
   "execution_count": 38,
   "metadata": {},
   "outputs": [
    {
     "name": "stdout",
     "output_type": "stream",
     "text": [
      "[[ 203.67 -101.84    0.   ...    0.      0.      0.  ]\n",
      " [-101.84  203.67 -101.84 ...    0.      0.      0.  ]\n",
      " [   0.   -101.84  203.67 ...    0.      0.      0.  ]\n",
      " ...\n",
      " [   0.      0.      0.   ...  203.67 -101.84    0.  ]\n",
      " [   0.      0.      0.   ... -101.84  203.67 -101.84]\n",
      " [   0.      0.      0.   ...    0.   -101.84  203.67]]\n"
     ]
    }
   ],
   "source": [
    "x_dense = np.linspace(-20, 50, 1000)\n",
    "V_dense = np.array([BoxPotential(x, 0, 4, -10) for x in x_dense])\n",
    "\n",
    "H = Hamiltonian(1000, V_dense, x_dense[1] - x_dense[0])"
   ]
  },
  {
   "cell_type": "code",
   "execution_count": 34,
   "metadata": {},
   "outputs": [
    {
     "data": {
      "text/plain": [
       "[<matplotlib.lines.Line2D at 0x7fe9e4747550>]"
      ]
     },
     "execution_count": 34,
     "metadata": {},
     "output_type": "execute_result"
    },
    {
     "data": {
      "image/png": "[encoded data removed]",
      "text/plain": [
       "<Figure size 432x288 with 1 Axes>"
      ]
     },
     "metadata": {
      "needs_background": "light"
     },
     "output_type": "display_data"
    }
   ],
   "source": [
    "psi = GaussWavePackage(x_dense, 0.0, 5.0, 1.0)\n",
    "V_dense = np.full(1000, 0.0)\n",
    "H = Hamiltonian(1000, V_dense, x_dense[1] - x_dense[0])\n",
    "U = TimeEvolution(H, 1)\n",
    "\n",
    "# plt.plot(x_dense, GaussWavePackage(x_dense, 0.0, 5.0, 1.0).real)\n",
    "plt.plot(x_dense, psi.real**2 + psi.imag**2)"
   ]
  },
  {
   "cell_type": "code",
   "execution_count": 30,
   "metadata": {},
   "outputs": [],
   "source": [
    "from matplotlib import animation"
   ]
  },
  {
   "cell_type": "code",
   "execution_count": 31,
   "metadata": {},
   "outputs": [
    {
     "data": {
      "image/png": "[encoded data removed]",
      "text/plain": [
       "<Figure size 576x288 with 1 Axes>"
      ]
     },
     "metadata": {
      "needs_background": "light"
     },
     "output_type": "display_data"
    }
   ],
   "source": [
    "fig, ax = plt.subplots(1, 1, figsize=(8, 4))\n",
    "# don't forget to set an axis limits\n",
    "ax.set_xlim(-20, 50)\n",
    "ax.set_ylim(0.0, 0.12)\n",
    "\n",
    "\n",
    "# next we need to create and initial empty frame\n",
    "ln1, = plt.plot([], [], label='sin')\n",
    "\n",
    "# number of frames per second\n",
    "frm_p_sec = 30\n",
    "\n",
    "# define the animation function\n",
    "# this function describe how we will change our frame\n",
    "# i -- is a number of frame\n",
    "# it's obvious that the nember of frame consists of time\n",
    "def animate(i, psi0, U):\n",
    "    psi = np.linalg.matrix_power(U, i) @ psi0\n",
    "    # update information about 1st plot\n",
    "    ln1.set_data(x_dense, psi.real**2 + psi.imag**2)"
   ]
  },
  {
   "cell_type": "code",
   "execution_count": 32,
   "metadata": {},
   "outputs": [],
   "source": [
    "# here we can geve parametrs to animation function, using a fargs=\n",
    "ani = animation.FuncAnimation(fig, animate, frames=240, fargs=(psi, U,), interval=frm_p_sec)"
   ]
  },
  {
   "cell_type": "code",
   "execution_count": 33,
   "metadata": {},
   "outputs": [],
   "source": [
    "# в google collab исполнение заняло 8 мин 54 сек\n",
    "# 3 мин 24 сек на рабочей машине\n",
    "\n",
    "# here we can save the animation like a video\n",
    "f = r\"/home/pavel/workfile/Other_things/physics_visualisations/test.mp4\" \n",
    "writervideo = animation.FFMpegWriter(fps=60) \n",
    "ani.save(f, writer=writervideo)"
   ]
  }
 ],
 "metadata": {
  "kernelspec": {
   "display_name": "Python 3",
   "language": "python",
   "name": "python3"
  },
  "language_info": {
   "codemirror_mode": {
    "name": "ipython",
    "version": 3
   },
   "file_extension": ".py",
   "mimetype": "text/x-python",
   "name": "python",
   "nbconvert_exporter": "python",
   "pygments_lexer": "ipython3",
   "version": "3.8.10 (default, Nov 14 2022, 12:59:47) \n[GCC 9.4.0]"
  },
  "orig_nbformat": 4,
  "vscode": {
   "interpreter": {
    "hash": "916dbcbb3f70747c44a77c7bcd40155683ae19c65e1c03b4aa3499c5328201f1"
   }
  }
 },
 "nbformat": 4,
 "nbformat_minor": 2
}

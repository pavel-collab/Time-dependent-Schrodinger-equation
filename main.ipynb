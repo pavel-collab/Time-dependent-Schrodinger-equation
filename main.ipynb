{
 "cells": [
  {
   "cell_type": "code",
   "execution_count": 81,
   "metadata": {},
   "outputs": [],
   "source": [
    "import numpy as np\n",
    "import matplotlib.pyplot as plt\n",
    "import math\n",
    "from matplotlib import animation"
   ]
  },
  {
   "cell_type": "code",
   "execution_count": 82,
   "metadata": {},
   "outputs": [],
   "source": [
    "from src import ShrodingerEquation, PotentialBarriers"
   ]
  },
  {
   "attachments": {},
   "cell_type": "markdown",
   "metadata": {},
   "source": [
    "Запишем общий вид уравнения Шрёдингера\n",
    "\n",
    "$$H \\langle \\psi \\rangle = E \\psi$$\n",
    "\n",
    "где $\\psi$ -- волновая функция, $H$ -- оператор полной энергии (гамильтониан), $E$ -- полная энергия \n",
    "системы. Вид гамильтониана\n",
    "\n",
    "$$H = - \\frac{\\hbar}{2m} \\Delta + U(r)$$\n",
    "\n",
    "где $\\Delta$ -- оператор Лапласа.\n",
    "\n",
    "Это запись для уравнения Шрёдингера, независимого от времени (стационарного состояния). При записи, \n",
    "фактически в правой части мы перешли от оператора, дающего зависимость по времени к величине полной \n",
    "энергии. Для того, чтобы записать уравнение, зависящее от времени перейдем к операторам в обеих частях.\n",
    "\n",
    "$$H \\langle \\psi \\rangle = E  \\langle \\psi \\rangle$$\n",
    "\n",
    "где $E$ теперь является оператором\n",
    "\n",
    "$$E = i \\hbar \\frac{\\partial}{\\partial t}$$\n",
    "\n",
    "Теперь уравнение имеет следующий вид\n",
    "\n",
    "$$i \\hbar \\frac{\\partial \\psi(r, t)}{\\partial t} = H \\langle \\psi(r, t) \\rangle$$"
   ]
  },
  {
   "attachments": {},
   "cell_type": "markdown",
   "metadata": {},
   "source": [
    "В этом случае решение дифференциального уравнения можно выразить следующим образом\n",
    "\n",
    "$$\\psi(r, t) = \\exp(-i H t) \\psi(r, 0)$$"
   ]
  },
  {
   "attachments": {},
   "cell_type": "markdown",
   "metadata": {},
   "source": [
    "Будем рассматривать распространение волнового пакета вдоль оси $Ox$. Тогда гамильтониан запишем следующим \n",
    "образом\n",
    "\n",
    "$$H = - \\frac{\\hbar}{2m} \\frac{\\partial^2}{\\partial x^2} + U(x)$$\n",
    "\n",
    "Для вычисления второй производной воспользуемся формулой вычислительной метематики\n",
    "\n",
    "$$\\frac{\\partial^2 f}{\\partial x^2} _{x = j \\Delta x} = \\frac{f_{j+1} - 2f_{j} + f_{j-1}}{dx^2}$$\n",
    "\n",
    "Тогда, если $f$ представляет собой вектор дискретных значений\n",
    "\n",
    "$$\n",
    "\\begin{pmatrix}\n",
    "f_1 \\\\\n",
    "f_2 \\\\\n",
    "\\dots \\\\\n",
    "f_N\n",
    "\\end{pmatrix}\n",
    "$$\n",
    "\n",
    "То вектор значений вторых происзводных этой функции в узлах построенной сетки можно получить с помощью\n",
    "трехдиагональной матрицы\n",
    "\n",
    "$$\n",
    "\\begin{pmatrix}\n",
    "f_1'' \\\\\n",
    "f_2'' \\\\\n",
    "\\dots \\\\\n",
    "f_N''\n",
    "\\end{pmatrix}\n",
    "= \\frac{1}{dx^2}\n",
    "\\begin{pmatrix}\n",
    "-2 &  1 & 0 & 0     & \\dots & 0 & 0 \\\\\n",
    "1  & -2 & 1 & 0     & \\dots & 0 & 0 \\\\\n",
    "0  & 1  &-2 & 1     & \\dots & 0 & 0 \\\\\n",
    "   &    &   & \\dots &       &   &   \\\\\n",
    "0  & 0  & 0 & 0     & \\dots &-2 & 1 \\\\\n",
    "\\end{pmatrix}\n",
    "\\begin{pmatrix}\n",
    "f_1 \\\\\n",
    "f_2 \\\\\n",
    "\\dots \\\\\n",
    "f_N\n",
    "\\end{pmatrix}\n",
    "$$"
   ]
  },
  {
   "attachments": {},
   "cell_type": "markdown",
   "metadata": {},
   "source": [
    "Значение потенциальной энергии $U$ так же можно представить в виде вектора значений в узлах сетки. Тогда\n",
    "действие оператора $H$ на вектор значений волновой функции $\\psi$ можно представить, как умножение вектора \n",
    "значений волновой функции на матрицу\n",
    "\n",
    "$$\n",
    "H =\n",
    "- \\frac{\\hbar}{2 m dx^2}\n",
    "\\begin{pmatrix}\n",
    "-2 &  1 & 0 & 0     & \\dots & 0 & 0 \\\\\n",
    "1  & -2 & 1 & 0     & \\dots & 0 & 0 \\\\\n",
    "0  & 1  &-2 & 1     & \\dots & 0 & 0 \\\\\n",
    "   &    &   & \\dots &       &   &   \\\\\n",
    "0  & 0  & 0 &       & \\dots &-2 & 1 \\\\\\end{pmatrix}\n",
    "\\begin{pmatrix}\n",
    "V_1 &  0  & 0   & 0     & \\dots & 0 & 0 \\\\\n",
    "0   & V_2 & 0   & 0     & \\dots & 0 & 0 \\\\\n",
    "0   & 0   & V_3 & 0     & \\dots & 0 & 0 \\\\\n",
    "    &     &     & \\dots &       &   &   \\\\\n",
    "0   & 0   & 0   & 0     & \\dots & 0 & V_N \\\\\\end{pmatrix}\n",
    "$$"
   ]
  },
  {
   "cell_type": "code",
   "execution_count": 83,
   "metadata": {},
   "outputs": [],
   "source": [
    "# зададим количество точек на пространственной сетке\n",
    "N = 1000\n",
    "# зададим сетку пространственного диапазона\n",
    "x_dense, dx = np.linspace(-100, 100, N, retstep=True)\n",
    "\n",
    "# зададим параметры волнового пакета\n",
    "# начальное положение\n",
    "x0 = -50\n",
    "# ширина\n",
    "sigma0 = 5.0\n",
    "# начальная энергия и импульс (считаем что m = 1)\n",
    "E0 = 0.5\n",
    "p0 = math.sqrt(2*E0)\n",
    "\n",
    "# зададим начальный вид волновой функции, как гаусовский полновой пакет\n",
    "psi0 = ShrodingerEquation.GaussWavePackage(x_dense, x0, sigma0, p0)\n",
    "\n",
    "# зададим потенциальный барьер\n",
    "V_dense = np.zeros(N)"
   ]
  },
  {
   "cell_type": "code",
   "execution_count": 84,
   "metadata": {},
   "outputs": [
    {
     "name": "stdout",
     "output_type": "stream",
     "text": [
      "Параметры волновой функции\n",
      "E0 = 0.50\n",
      "p0 = 1.00\n"
     ]
    },
    {
     "data": {
      "text/plain": [
       "[<matplotlib.lines.Line2D at 0x7effc0dd96a0>]"
      ]
     },
     "execution_count": 84,
     "metadata": {},
     "output_type": "execute_result"
    },
    {
     "data": {
      "image/png": "[encoded data removed]",
      "text/plain": [
       "<Figure size 432x288 with 1 Axes>"
      ]
     },
     "metadata": {
      "needs_background": "light"
     },
     "output_type": "display_data"
    }
   ],
   "source": [
    "print(\"Параметры волновой функции\")\n",
    "print(\"E0 = %0.2f\" %E0)\n",
    "print(\"p0 = %0.2f\" %p0)\n",
    "plt.plot(x_dense, psi0.real)\n",
    "plt.plot(x_dense, V_dense)"
   ]
  },
  {
   "cell_type": "code",
   "execution_count": 86,
   "metadata": {},
   "outputs": [
    {
     "data": {
      "text/plain": [
       "[<matplotlib.lines.Line2D at 0x7effc0d7c070>]"
      ]
     },
     "execution_count": 86,
     "metadata": {},
     "output_type": "execute_result"
    },
    {
     "data": {
      "image/png": "[encoded data removed]",
      "text/plain": [
       "<Figure size 432x288 with 1 Axes>"
      ]
     },
     "metadata": {
      "needs_background": "light"
     },
     "output_type": "display_data"
    }
   ],
   "source": [
    "psi = ShrodingerEquation.WaveFunction(psi0, x_dense, V_dense)"
   ]
  }
 ],
 "metadata": {
  "kernelspec": {
   "display_name": "Python 3",
   "language": "python",
   "name": "python3"
  },
  "language_info": {
   "codemirror_mode": {
    "name": "ipython",
    "version": 3
   },
   "file_extension": ".py",
   "mimetype": "text/x-python",
   "name": "python",
   "nbconvert_exporter": "python",
   "pygments_lexer": "ipython3",
   "version": "3.8.10"
  },
  "orig_nbformat": 4,
  "vscode": {
   "interpreter": {
    "hash": "916dbcbb3f70747c44a77c7bcd40155683ae19c65e1c03b4aa3499c5328201f1"
   }
  }
 },
 "nbformat": 4,
 "nbformat_minor": 2
}

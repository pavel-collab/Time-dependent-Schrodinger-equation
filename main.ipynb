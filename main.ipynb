{
 "cells": [
  {
   "cell_type": "code",
   "execution_count": 41,
   "metadata": {},
   "outputs": [],
   "source": [
    "import numpy as np\n",
    "import matplotlib.pyplot as plt\n",
    "import math\n",
    "from matplotlib import animation"
   ]
  },
  {
   "attachments": {},
   "cell_type": "markdown",
   "metadata": {},
   "source": [
    "__ATTENTION:__ Sometimes there are some errors with cells or class etributes. In this case just\n",
    "try to restart the python kernel."
   ]
  },
  {
   "cell_type": "code",
   "execution_count": 42,
   "metadata": {},
   "outputs": [],
   "source": [
    "from src import ShrodingerEquation, PotentialBarriers"
   ]
  },
  {
   "attachments": {},
   "cell_type": "markdown",
   "metadata": {},
   "source": [
    "Запишем общий вид уравнения Шрёдингера\n",
    "\n",
    "$$H \\langle \\psi \\rangle = E \\psi$$\n",
    "\n",
    "где $\\psi$ -- волновая функция, $H$ -- оператор полной энергии (гамильтониан), $E$ -- полная энергия \n",
    "системы. Вид гамильтониана\n",
    "\n",
    "$$H = - \\frac{\\hbar}{2m} \\Delta + U(r)$$\n",
    "\n",
    "где $\\Delta$ -- оператор Лапласа.\n",
    "\n",
    "Это запись для уравнения Шрёдингера, независимого от времени (стационарного состояния). При записи, \n",
    "фактически в правой части мы перешли от оператора, дающего зависимость по времени к величине полной \n",
    "энергии. Для того, чтобы записать уравнение, зависящее от времени перейдем к операторам в обеих частях.\n",
    "\n",
    "$$H \\langle \\psi \\rangle = E  \\langle \\psi \\rangle$$\n",
    "\n",
    "где $E$ теперь является оператором\n",
    "\n",
    "$$E = i \\hbar \\frac{\\partial}{\\partial t}$$\n",
    "\n",
    "Теперь уравнение имеет следующий вид\n",
    "\n",
    "$$i \\hbar \\frac{\\partial \\psi(r, t)}{\\partial t} = H \\langle \\psi(r, t) \\rangle$$"
   ]
  },
  {
   "attachments": {},
   "cell_type": "markdown",
   "metadata": {},
   "source": [
    "В этом случае решение дифференциального уравнения можно выразить следующим образом\n",
    "\n",
    "$$\\psi(r, t) = \\exp(-i H t) \\psi(r, 0)$$"
   ]
  },
  {
   "attachments": {},
   "cell_type": "markdown",
   "metadata": {},
   "source": [
    "Будем рассматривать распространение волнового пакета вдоль оси $Ox$. Тогда гамильтониан запишем следующим \n",
    "образом\n",
    "\n",
    "$$H = - \\frac{\\hbar}{2m} \\frac{\\partial^2}{\\partial x^2} + U(x)$$\n",
    "\n",
    "Для вычисления второй производной воспользуемся формулой вычислительной метематики\n",
    "\n",
    "$$\\frac{\\partial^2 f}{\\partial x^2} _{x = j \\Delta x} = \\frac{f_{j+1} - 2f_{j} + f_{j-1}}{dx^2}$$\n",
    "\n",
    "Тогда, если $f$ представляет собой вектор дискретных значений\n",
    "\n",
    "$$\n",
    "\\begin{pmatrix}\n",
    "f_1 \\\\\n",
    "f_2 \\\\\n",
    "\\dots \\\\\n",
    "f_N\n",
    "\\end{pmatrix}\n",
    "$$\n",
    "\n",
    "То вектор значений вторых происзводных этой функции в узлах построенной сетки можно получить с помощью\n",
    "трехдиагональной матрицы\n",
    "\n",
    "$$\n",
    "\\begin{pmatrix}\n",
    "f_1'' \\\\\n",
    "f_2'' \\\\\n",
    "\\dots \\\\\n",
    "f_N''\n",
    "\\end{pmatrix}\n",
    "= \\frac{1}{dx^2}\n",
    "\\begin{pmatrix}\n",
    "-2 &  1 & 0 & 0     & \\dots & 0 & 0 \\\\\n",
    "1  & -2 & 1 & 0     & \\dots & 0 & 0 \\\\\n",
    "0  & 1  &-2 & 1     & \\dots & 0 & 0 \\\\\n",
    "   &    &   & \\dots &       &   &   \\\\\n",
    "0  & 0  & 0 & 0     & \\dots &-2 & 1 \\\\\n",
    "\\end{pmatrix}\n",
    "\\begin{pmatrix}\n",
    "f_1 \\\\\n",
    "f_2 \\\\\n",
    "\\dots \\\\\n",
    "f_N\n",
    "\\end{pmatrix}\n",
    "$$"
   ]
  },
  {
   "attachments": {},
   "cell_type": "markdown",
   "metadata": {},
   "source": [
    "Значение потенциальной энергии $U$ так же можно представить в виде вектора значений в узлах сетки. Тогда\n",
    "действие оператора $H$ на вектор значений волновой функции $\\psi$ можно представить, как умножение вектора \n",
    "значений волновой функции на матрицу\n",
    "\n",
    "$$\n",
    "H =\n",
    "- \\frac{\\hbar}{2 m dx^2}\n",
    "\\begin{pmatrix}\n",
    "-2 &  1 & 0 & 0     & \\dots & 0 & 0 \\\\\n",
    "1  & -2 & 1 & 0     & \\dots & 0 & 0 \\\\\n",
    "0  & 1  &-2 & 1     & \\dots & 0 & 0 \\\\\n",
    "   &    &   & \\dots &       &   &   \\\\\n",
    "0  & 0  & 0 &       & \\dots &-2 & 1 \\\\\\end{pmatrix}\n",
    "\\begin{pmatrix}\n",
    "V_1 &  0  & 0   & 0     & \\dots & 0 & 0 \\\\\n",
    "0   & V_2 & 0   & 0     & \\dots & 0 & 0 \\\\\n",
    "0   & 0   & V_3 & 0     & \\dots & 0 & 0 \\\\\n",
    "    &     &     & \\dots &       &   &   \\\\\n",
    "0   & 0   & 0   & 0     & \\dots & 0 & V_N \\\\\\end{pmatrix}\n",
    "$$"
   ]
  },
  {
   "cell_type": "code",
   "execution_count": 43,
   "metadata": {},
   "outputs": [],
   "source": [
    "# зададим количество точек на пространственной сетке\n",
    "N = 1000\n",
    "# зададим сетку пространственного диапазона\n",
    "x_start = -60\n",
    "x_end = 60\n",
    "\n",
    "x_dense, dx = np.linspace(x_start, x_end, N, retstep=True)\n",
    "\n",
    "# зададим параметры волнового пакета\n",
    "# начальное положение\n",
    "x0 = -50\n",
    "# ширина\n",
    "sigma0 = 5.0\n",
    "# начальная энергия и импульс (считаем что m = 1)\n",
    "E0 = 0.5\n",
    "p0 = math.sqrt(2*E0)\n",
    "\n",
    "# зададим начальный вид волновой функции, как гаусовский полновой пакет\n",
    "psi0 = ShrodingerEquation.GaussWavePackage(x_dense, x0, sigma0, p0)\n",
    "\n",
    "# зададим потенциальный барьер\n",
    "V_dense = np.zeros(N)"
   ]
  },
  {
   "cell_type": "code",
   "execution_count": 44,
   "metadata": {},
   "outputs": [],
   "source": [
    "psi = ShrodingerEquation.WaveFunction(psi0, x_dense, V_dense)"
   ]
  },
  {
   "attachments": {},
   "cell_type": "markdown",
   "metadata": {},
   "source": [
    "##### Простой волновой пакет в пространстве"
   ]
  },
  {
   "cell_type": "code",
   "execution_count": 45,
   "metadata": {},
   "outputs": [
    {
     "data": {
      "image/png": "[encoded data removed]",
      "text/plain": [
       "<Figure size 576x288 with 1 Axes>"
      ]
     },
     "metadata": {
      "needs_background": "light"
     },
     "output_type": "display_data"
    }
   ],
   "source": [
    "fig, ax = plt.subplots(1, 1, figsize=(8, 4))\n",
    "# don't forget to set an axis limits\n",
    "ax.set_xlim(x_start, x_end)\n",
    "ax.set_ylim(0.0, 0.12)\n",
    "\n",
    "\n",
    "# next we need to create and initial empty frame\n",
    "ln1, = plt.plot([], [])\n",
    "\n",
    "# number of frames per second\n",
    "frm_p_sec = 30\n",
    "\n",
    "# define the animation function\n",
    "# this function describe how we will change our frame\n",
    "# i -- is a number of frame\n",
    "# it's obvious that the nember of frame consists of time\n",
    "def animate(i):\n",
    "    # Lets explain what does it for\n",
    "    # in matplotlib animation the animate function really wants to\n",
    "    # depend of i (number of frame)\n",
    "    # so, if the interpritator see that i is not used\n",
    "    # it waise a warning\n",
    "    # but in pur case we don't need to use the number of frame, so we make  an\n",
    "    # artificial using of variable i to avoid a wornings\n",
    "    I = i\n",
    "    psi.PsiTimeEvolute()\n",
    "    # update information about 1st plot\n",
    "    ln1.set_data(x_dense, psi.WaveFunctioProbability())"
   ]
  },
  {
   "cell_type": "code",
   "execution_count": 46,
   "metadata": {},
   "outputs": [],
   "source": [
    "ani = animation.FuncAnimation(fig, animate, frames=240, interval=frm_p_sec)"
   ]
  },
  {
   "cell_type": "code",
   "execution_count": 47,
   "metadata": {},
   "outputs": [],
   "source": [
    "# # here we can save the animation like a video\n",
    "# f = r\"./wave_package.mp4\" \n",
    "# writervideo = animation.FFMpegWriter(fps=60) \n",
    "# ani.save(f, writer=writervideo)"
   ]
  },
  {
   "attachments": {},
   "cell_type": "markdown",
   "metadata": {},
   "source": [
    "##### Волновой пакет в параболической потенциаьльной яме\n",
    "\n",
    "__NOTE:__ качество визуализации конкретно этой модели сильно зависит от соотношения параметров.\n",
    "Если параметры подобраны неудачно, то эффект может быть вообще незаметен."
   ]
  },
  {
   "cell_type": "code",
   "execution_count": 48,
   "metadata": {},
   "outputs": [],
   "source": [
    "# Потерциальную параболическую потенциальную яму\n",
    "omega = 1/32\n",
    "V_dense = PotentialBarriers.ParabolaPotential(x_dense, omega)\n",
    "\n",
    "# зададим новую волновую функцию\n",
    "# зададим начальный вид волновой функции, как гаусовский полновой пакет\n",
    "x0 = 0\n",
    "psi0 = ShrodingerEquation.GaussWavePackage(x_dense, x0, sigma0, p0)\n",
    "psi = ShrodingerEquation.WaveFunction(psi0, x_dense, V_dense)"
   ]
  },
  {
   "cell_type": "code",
   "execution_count": 49,
   "metadata": {},
   "outputs": [
    {
     "data": {
      "image/png": "[encoded data removed]",
      "text/plain": [
       "<Figure size 576x288 with 1 Axes>"
      ]
     },
     "metadata": {
      "needs_background": "light"
     },
     "output_type": "display_data"
    }
   ],
   "source": [
    "fig, ax = plt.subplots(1, 1, figsize=(8, 4))\n",
    "# don't forget to set an axis limits\n",
    "ax.set_xlim(x_start, x_end)\n",
    "ax.set_ylim(0.0, 0.12)\n",
    "\n",
    "\n",
    "# next we need to create and initial empty frame\n",
    "ln1, = plt.plot([], [])\n",
    "ln2, = plt.plot([], [])\n",
    "\n",
    "# number of frames per second\n",
    "frm_p_sec = 30\n",
    "\n",
    "# define the animation function\n",
    "# this function describe how we will change our frame\n",
    "# i -- is a number of frame\n",
    "# it's obvious that the nember of frame consists of time\n",
    "def animate(i):\n",
    "    # Lets explain what does it for\n",
    "    # in matplotlib animation the animate function really wants to\n",
    "    # depend of i (number of frame)\n",
    "    # so, if the interpritator see that i is not used\n",
    "    # it waise a warning\n",
    "    # but in pur case we don't need to use the number of frame, so we make  an\n",
    "    # artificial using of variable i to avoid a wornings\n",
    "    I = i\n",
    "    psi.PsiTimeEvolute()\n",
    "    # update information about 1st plot\n",
    "    ln1.set_data(x_dense, psi.WaveFunctioProbability())\n",
    "    ln2.set_data(x_dense, V_dense)"
   ]
  },
  {
   "cell_type": "code",
   "execution_count": 50,
   "metadata": {},
   "outputs": [
    {
     "name": "stderr",
     "output_type": "stream",
     "text": [
      "/home/pavel/.local/lib/python3.8/site-packages/matplotlib/animation.py:879: UserWarning: Animation was deleted without rendering anything. This is most likely not intended. To prevent deletion, assign the Animation to a variable, e.g. `anim`, that exists until you output the Animation using `plt.show()` or `anim.save()`.\n",
      "  warnings.warn(\n"
     ]
    }
   ],
   "source": [
    "ani = animation.FuncAnimation(fig, animate, frames=240, interval=frm_p_sec)"
   ]
  },
  {
   "cell_type": "code",
   "execution_count": 51,
   "metadata": {},
   "outputs": [],
   "source": [
    "# # here we can save the animation like a video\n",
    "# f = r\"./oscilator.mp4\" \n",
    "# writervideo = animation.FFMpegWriter(fps=60) \n",
    "# ani.save(f, writer=writervideo)"
   ]
  },
  {
   "attachments": {},
   "cell_type": "markdown",
   "metadata": {},
   "source": [
    "##### Потенциальный барьер\n",
    "\n",
    "__ATTENTION:__ см соотношение для коэффициента прохождения барьера, там есть в том числе компонент\n",
    "\n",
    "$$\\sqrt{U_0 - E}$$\n",
    "\n",
    "нужно исправить и учесть ситуацию, в которой $U_0 < E$\n",
    "\n",
    "Понизить скорость симуляции, уменьшить время симуляции для этой модели."
   ]
  },
  {
   "cell_type": "code",
   "execution_count": 52,
   "metadata": {},
   "outputs": [],
   "source": [
    "# Потенциальный барьер\n",
    "x0 = 20\n",
    "V0 = 1\n",
    "a = 1\n",
    "V_dense = np.array([PotentialBarriers.BoxPotential(x, x0, a, V0) for x in x_dense])\n",
    "\n",
    "# зададим новую волновую функцию\n",
    "# зададим начальный вид волновой функции, как гаусовский полновой пакет\n",
    "x0 = 0\n",
    "psi0 = ShrodingerEquation.GaussWavePackage(x_dense, x0, sigma0, p0)\n",
    "psi = ShrodingerEquation.WaveFunction(psi0, x_dense, V_dense)"
   ]
  },
  {
   "cell_type": "code",
   "execution_count": 53,
   "metadata": {},
   "outputs": [
    {
     "name": "stdout",
     "output_type": "stream",
     "text": [
      "Вероятность преодолеть барьер D = 0.419974\n"
     ]
    },
    {
     "data": {
      "text/plain": [
       "[<matplotlib.lines.Line2D at 0x7f9d1a07e370>]"
      ]
     },
     "execution_count": 53,
     "metadata": {},
     "output_type": "execute_result"
    },
    {
     "data": {
      "image/png": "[encoded data removed]",
      "text/plain": [
       "<Figure size 432x288 with 1 Axes>"
      ]
     },
     "metadata": {
      "needs_background": "light"
     },
     "output_type": "display_data"
    }
   ],
   "source": [
    "print(\"Вероятность преодолеть барьер D = %lf\" %(PotentialBarriers.transmission_probability(E0, V0, a)))\n",
    "\n",
    "plt.plot(x_dense, psi.WaveFunctioProbability())\n",
    "plt.plot(x_dense, V_dense)"
   ]
  },
  {
   "cell_type": "code",
   "execution_count": 54,
   "metadata": {},
   "outputs": [
    {
     "data": {
      "image/png": "[encoded data removed]",
      "text/plain": [
       "<Figure size 576x288 with 1 Axes>"
      ]
     },
     "metadata": {
      "needs_background": "light"
     },
     "output_type": "display_data"
    }
   ],
   "source": [
    "fig, ax = plt.subplots(1, 1, figsize=(8, 4))\n",
    "# don't forget to set an axis limits\n",
    "ax.set_xlim(x_start, x_end)\n",
    "ax.set_ylim(0.0, 0.12)\n",
    "\n",
    "\n",
    "# next we need to create and initial empty frame\n",
    "ln1, = plt.plot([], [])\n",
    "ln2, = plt.plot([], [])\n",
    "\n",
    "# number of frames per second\n",
    "frm_p_sec = 30\n",
    "\n",
    "# define the animation function\n",
    "# this function describe how we will change our frame\n",
    "# i -- is a number of frame\n",
    "# it's obvious that the nember of frame consists of time\n",
    "def animate(i):\n",
    "    # Lets explain what does it for\n",
    "    # in matplotlib animation the animate function really wants to\n",
    "    # depend of i (number of frame)\n",
    "    # so, if the interpritator see that i is not used\n",
    "    # it waise a warning\n",
    "    # but in pur case we don't need to use the number of frame, so we make  an\n",
    "    # artificial using of variable i to avoid a wornings\n",
    "    I = i\n",
    "    psi.PsiTimeEvolute()\n",
    "    # update information about 1st plot\n",
    "    ln1.set_data(x_dense, psi.WaveFunctioProbability())\n",
    "    ln2.set_data(x_dense, V_dense)"
   ]
  },
  {
   "cell_type": "code",
   "execution_count": 55,
   "metadata": {},
   "outputs": [],
   "source": [
    "ani = animation.FuncAnimation(fig, animate, frames=240, interval=frm_p_sec)"
   ]
  },
  {
   "cell_type": "code",
   "execution_count": 56,
   "metadata": {},
   "outputs": [],
   "source": [
    "# here we can save the animation like a video\n",
    "f = r\"./potential_barier.mp4\" \n",
    "writervideo = animation.FFMpegWriter(fps=60) \n",
    "ani.save(f, writer=writervideo)"
   ]
  }
 ],
 "metadata": {
  "kernelspec": {
   "display_name": "Python 3",
   "language": "python",
   "name": "python3"
  },
  "language_info": {
   "codemirror_mode": {
    "name": "ipython",
    "version": 3
   },
   "file_extension": ".py",
   "mimetype": "text/x-python",
   "name": "python",
   "nbconvert_exporter": "python",
   "pygments_lexer": "ipython3",
   "version": "3.8.10"
  },
  "orig_nbformat": 4,
  "vscode": {
   "interpreter": {
    "hash": "916dbcbb3f70747c44a77c7bcd40155683ae19c65e1c03b4aa3499c5328201f1"
   }
  }
 },
 "nbformat": 4,
 "nbformat_minor": 2
}
